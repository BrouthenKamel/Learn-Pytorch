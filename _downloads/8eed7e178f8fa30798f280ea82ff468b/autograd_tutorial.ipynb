{
  "cells": [
    {
      "cell_type": "markdown",
      "metadata": {
        "id": "view-in-github",
        "colab_type": "text"
      },
      "source": [
        "<a href=\"https://colab.research.google.com/github/BrouthenKamel/Learn-Pytorch/blob/main/_downloads/8eed7e178f8fa30798f280ea82ff468b/autograd_tutorial.ipynb\" target=\"_parent\"><img src=\"https://colab.research.google.com/assets/colab-badge.svg\" alt=\"Open In Colab\"/></a>"
      ]
    },
    {
      "cell_type": "code",
      "execution_count": 1,
      "metadata": {
        "id": "v6EfWss9h8vN"
      },
      "outputs": [],
      "source": [
        "%matplotlib inline"
      ]
    },
    {
      "cell_type": "markdown",
      "metadata": {
        "id": "CNyKU4KXh8vQ"
      },
      "source": [
        "\n",
        "# A Gentle Introduction to ``torch.autograd``\n",
        "\n",
        "``torch.autograd`` is PyTorch’s automatic differentiation engine that powers\n",
        "neural network training. In this section, you will get a conceptual\n",
        "understanding of how autograd helps a neural network train.\n",
        "\n",
        "## Background\n",
        "Neural networks (NNs) are a collection of nested functions that are\n",
        "executed on some input data. These functions are defined by *parameters*\n",
        "(consisting of weights and biases), which in PyTorch are stored in\n",
        "tensors.\n",
        "\n",
        "Training a NN happens in two steps:\n",
        "\n",
        "**Forward Propagation**: In forward prop, the NN makes its best guess\n",
        "about the correct output. It runs the input data through each of its\n",
        "functions to make this guess.\n",
        "\n",
        "**Backward Propagation**: In backprop, the NN adjusts its parameters\n",
        "proportionate to the error in its guess. It does this by traversing\n",
        "backwards from the output, collecting the derivatives of the error with\n",
        "respect to the parameters of the functions (*gradients*), and optimizing\n",
        "the parameters using gradient descent. For a more detailed walkthrough\n",
        "of backprop, check out this [video from\n",
        "3Blue1Brown](https://www.youtube.com/watch?v=tIeHLnjs5U8)_.\n",
        "\n",
        "\n",
        "\n",
        "\n",
        "## Usage in PyTorch\n",
        "Let's take a look at a single training step.\n",
        "For this example, we load a pretrained resnet18 model from ``torchvision``.\n",
        "We create a random data tensor to represent a single image with 3 channels, and height & width of 64,\n",
        "and its corresponding ``label`` initialized to some random values. Label in pretrained models has\n",
        "shape (1,1000).\n",
        "\n",
        "<div class=\"alert alert-info\"><h4>Note</h4><p>This tutorial work only on CPU and will not work on GPU (even if tensor are moved to CUDA).</p></div>\n"
      ]
    },
    {
      "cell_type": "code",
      "execution_count": 2,
      "metadata": {
        "id": "-I9ql1xih8vS",
        "outputId": "38d2a2c2-c6d7-46b2-adda-4d6172328a03",
        "colab": {
          "base_uri": "https://localhost:8080/",
          "height": 66,
          "referenced_widgets": [
            "e5658da1b2f144079b620bcc914e1d51",
            "d1e5685c4400494887bb622c913f7939",
            "86dfec017d37416b8c1be87b4f024b09",
            "91d2fb7f243d493383d6bebc17e914f4",
            "2c5c90c4ca424ec8854885372975c128",
            "090a04f14de347a8a11fa7e9717de23a",
            "6aeb6cd7db714e1caec3707ce758bbba",
            "7f6b9d1659504b5186ff9d8f716b7ab5",
            "3e4a3a99fd7943808709067d8540a694",
            "1be1cc8d56284a76abf27c51dbe5ddef",
            "94da2800f40a444091ff2411d34f1e98"
          ]
        }
      },
      "outputs": [
        {
          "output_type": "stream",
          "name": "stderr",
          "text": [
            "Downloading: \"https://download.pytorch.org/models/resnet18-f37072fd.pth\" to /root/.cache/torch/hub/checkpoints/resnet18-f37072fd.pth\n"
          ]
        },
        {
          "output_type": "display_data",
          "data": {
            "text/plain": [
              "  0%|          | 0.00/44.7M [00:00<?, ?B/s]"
            ],
            "application/vnd.jupyter.widget-view+json": {
              "version_major": 2,
              "version_minor": 0,
              "model_id": "e5658da1b2f144079b620bcc914e1d51"
            }
          },
          "metadata": {}
        }
      ],
      "source": [
        "import torch\n",
        "from torchvision.models import resnet18, ResNet18_Weights\n",
        "model = resnet18(weights=ResNet18_Weights.DEFAULT)\n",
        "data = torch.rand(1, 3, 64, 64)\n",
        "labels = torch.rand(1, 1000)"
      ]
    },
    {
      "cell_type": "markdown",
      "metadata": {
        "id": "N4breiL1h8vS"
      },
      "source": [
        "Next, we run the input data through the model through each of its layers to make a prediction.\n",
        "This is the **forward pass**.\n",
        "\n",
        "\n"
      ]
    },
    {
      "cell_type": "code",
      "execution_count": 3,
      "metadata": {
        "id": "q3GqyykTh8vT"
      },
      "outputs": [],
      "source": [
        "prediction = model(data) # forward pass"
      ]
    },
    {
      "cell_type": "markdown",
      "metadata": {
        "id": "75rM7obwh8vT"
      },
      "source": [
        "We use the model's prediction and the corresponding label to calculate the error (``loss``).\n",
        "The next step is to backpropagate this error through the network.\n",
        "Backward propagation is kicked off when we call ``.backward()`` on the error tensor.\n",
        "Autograd then calculates and stores the gradients for each model parameter in the parameter's ``.grad`` attribute.\n",
        "\n",
        "\n"
      ]
    },
    {
      "cell_type": "code",
      "execution_count": 4,
      "metadata": {
        "id": "XLhF4cSeh8vT"
      },
      "outputs": [],
      "source": [
        "loss = (prediction - labels).sum()\n",
        "loss.backward() # backward pass"
      ]
    },
    {
      "cell_type": "markdown",
      "metadata": {
        "id": "q0aDIwQKh8vU"
      },
      "source": [
        "Next, we load an optimizer, in this case SGD with a learning rate of 0.01 and [momentum](https://towardsdatascience.com/stochastic-gradient-descent-with-momentum-a84097641a5d)_ of 0.9.\n",
        "We register all the parameters of the model in the optimizer.\n",
        "\n",
        "\n"
      ]
    },
    {
      "cell_type": "code",
      "execution_count": 5,
      "metadata": {
        "id": "IyKBD12ih8vU"
      },
      "outputs": [],
      "source": [
        "optim = torch.optim.SGD(model.parameters(), lr=1e-2, momentum=0.9)"
      ]
    },
    {
      "cell_type": "markdown",
      "metadata": {
        "id": "D8ll-gxoh8vV"
      },
      "source": [
        "Finally, we call ``.step()`` to initiate gradient descent. The optimizer adjusts each parameter by its gradient stored in ``.grad``.\n",
        "\n",
        "\n"
      ]
    },
    {
      "cell_type": "code",
      "execution_count": 6,
      "metadata": {
        "id": "cOa7SwsYh8vV"
      },
      "outputs": [],
      "source": [
        "optim.step() #gradient descent"
      ]
    },
    {
      "cell_type": "markdown",
      "metadata": {
        "id": "gwu2NEvHh8vV"
      },
      "source": [
        "At this point, you have everything you need to train your neural network.\n",
        "The below sections detail the workings of autograd - feel free to skip them.\n",
        "\n",
        "\n"
      ]
    },
    {
      "cell_type": "markdown",
      "metadata": {
        "id": "ZibJ1FYkh8vV"
      },
      "source": [
        "--------------\n",
        "\n",
        "\n"
      ]
    },
    {
      "cell_type": "markdown",
      "metadata": {
        "id": "mr-AmnSqh8vW"
      },
      "source": [
        "## Differentiation in Autograd\n",
        "Let's take a look at how ``autograd`` collects gradients. We create two tensors ``a`` and ``b`` with\n",
        "``requires_grad=True``. This signals to ``autograd`` that every operation on them should be tracked.\n",
        "\n",
        "\n"
      ]
    },
    {
      "cell_type": "code",
      "execution_count": 7,
      "metadata": {
        "id": "EkrPvpGyh8vW"
      },
      "outputs": [],
      "source": [
        "import torch\n",
        "\n",
        "a = torch.tensor([2., 3.], requires_grad=True)\n",
        "b = torch.tensor([6., 4.], requires_grad=True)"
      ]
    },
    {
      "cell_type": "markdown",
      "metadata": {
        "id": "7xssgGxPh8vX"
      },
      "source": [
        "We create another tensor ``Q`` from ``a`` and ``b``.\n",
        "\n",
        "\\begin{align}Q = 3a^3 - b^2\\end{align}\n",
        "\n"
      ]
    },
    {
      "cell_type": "code",
      "execution_count": 8,
      "metadata": {
        "id": "9sdhsZDeh8vX"
      },
      "outputs": [],
      "source": [
        "Q = 3*a**3 - b**2"
      ]
    },
    {
      "cell_type": "markdown",
      "metadata": {
        "id": "9DNNF-5Yh8vX"
      },
      "source": [
        "Let's assume ``a`` and ``b`` to be parameters of an NN, and ``Q``\n",
        "to be the error. In NN training, we want gradients of the error\n",
        "w.r.t. parameters, i.e.\n",
        "\n",
        "\\begin{align}\\frac{\\partial Q}{\\partial a} = 9a^2\\end{align}\n",
        "\n",
        "\\begin{align}\\frac{\\partial Q}{\\partial b} = -2b\\end{align}\n",
        "\n",
        "\n",
        "When we call ``.backward()`` on ``Q``, autograd calculates these gradients\n",
        "and stores them in the respective tensors' ``.grad`` attribute.\n",
        "\n",
        "We need to explicitly pass a ``gradient`` argument in ``Q.backward()`` because it is a vector.\n",
        "``gradient`` is a tensor of the same shape as ``Q``, and it represents the\n",
        "gradient of Q w.r.t. itself, i.e.\n",
        "\n",
        "\\begin{align}\\frac{dQ}{dQ} = 1\\end{align}\n",
        "\n",
        "Equivalently, we can also aggregate Q into a scalar and call backward implicitly, like ``Q.sum().backward()``.\n",
        "\n",
        "\n"
      ]
    },
    {
      "cell_type": "code",
      "execution_count": 9,
      "metadata": {
        "id": "k9aV7lOXh8vX"
      },
      "outputs": [],
      "source": [
        "external_grad = torch.tensor([1., 1.])\n",
        "Q.backward(gradient=external_grad)"
      ]
    },
    {
      "cell_type": "markdown",
      "metadata": {
        "id": "5qmigvtsh8vY"
      },
      "source": [
        "Gradients are now deposited in ``a.grad`` and ``b.grad``\n",
        "\n"
      ]
    },
    {
      "cell_type": "code",
      "execution_count": 10,
      "metadata": {
        "id": "CwbD403xh8vY",
        "outputId": "755e6a08-3126-4439-aaa5-7eeabbfdfe3f",
        "colab": {
          "base_uri": "https://localhost:8080/"
        }
      },
      "outputs": [
        {
          "output_type": "stream",
          "name": "stdout",
          "text": [
            "tensor([True, True])\n",
            "tensor([True, True])\n"
          ]
        }
      ],
      "source": [
        "# check if collected gradients are correct\n",
        "print(9*a**2 == a.grad)\n",
        "print(-2*b == b.grad)"
      ]
    },
    {
      "cell_type": "markdown",
      "metadata": {
        "id": "UJWJO41Vh8vY"
      },
      "source": [
        "### Optional Reading - Vector Calculus using ``autograd``\n",
        "\n",
        "Mathematically, if you have a vector valued function\n",
        "$\\vec{y}=f(\\vec{x})$, then the gradient of $\\vec{y}$ with\n",
        "respect to $\\vec{x}$ is a Jacobian matrix $J$:\n",
        "\n",
        "\\begin{align}J\n",
        "     =\n",
        "      \\left(\\begin{array}{cc}\n",
        "      \\frac{\\partial \\bf{y}}{\\partial x_{1}} &\n",
        "      ... &\n",
        "      \\frac{\\partial \\bf{y}}{\\partial x_{n}}\n",
        "      \\end{array}\\right)\n",
        "     =\n",
        "     \\left(\\begin{array}{ccc}\n",
        "      \\frac{\\partial y_{1}}{\\partial x_{1}} & \\cdots & \\frac{\\partial y_{1}}{\\partial x_{n}}\\\\\n",
        "      \\vdots & \\ddots & \\vdots\\\\\n",
        "      \\frac{\\partial y_{m}}{\\partial x_{1}} & \\cdots & \\frac{\\partial y_{m}}{\\partial x_{n}}\n",
        "      \\end{array}\\right)\\end{align}\n",
        "\n",
        "Generally speaking, ``torch.autograd`` is an engine for computing\n",
        "vector-Jacobian product. That is, given any vector $\\vec{v}$, compute the product\n",
        "$J^{T}\\cdot \\vec{v}$\n",
        "\n",
        "If $\\vec{v}$ happens to be the gradient of a scalar function $l=g\\left(\\vec{y}\\right)$:\n",
        "\n",
        "\\begin{align}\\vec{v}\n",
        "   =\n",
        "   \\left(\\begin{array}{ccc}\\frac{\\partial l}{\\partial y_{1}} & \\cdots & \\frac{\\partial l}{\\partial y_{m}}\\end{array}\\right)^{T}\\end{align}\n",
        "\n",
        "then by the chain rule, the vector-Jacobian product would be the\n",
        "gradient of $l$ with respect to $\\vec{x}$:\n",
        "\n",
        "\\begin{align}J^{T}\\cdot \\vec{v}=\\left(\\begin{array}{ccc}\n",
        "      \\frac{\\partial y_{1}}{\\partial x_{1}} & \\cdots & \\frac{\\partial y_{m}}{\\partial x_{1}}\\\\\n",
        "      \\vdots & \\ddots & \\vdots\\\\\n",
        "      \\frac{\\partial y_{1}}{\\partial x_{n}} & \\cdots & \\frac{\\partial y_{m}}{\\partial x_{n}}\n",
        "      \\end{array}\\right)\\left(\\begin{array}{c}\n",
        "      \\frac{\\partial l}{\\partial y_{1}}\\\\\n",
        "      \\vdots\\\\\n",
        "      \\frac{\\partial l}{\\partial y_{m}}\n",
        "      \\end{array}\\right)=\\left(\\begin{array}{c}\n",
        "      \\frac{\\partial l}{\\partial x_{1}}\\\\\n",
        "      \\vdots\\\\\n",
        "      \\frac{\\partial l}{\\partial x_{n}}\n",
        "      \\end{array}\\right)\\end{align}\n",
        "\n",
        "This characteristic of vector-Jacobian product is what we use in the above example;\n",
        "``external_grad`` represents $\\vec{v}$.\n",
        "\n",
        "\n"
      ]
    },
    {
      "cell_type": "markdown",
      "metadata": {
        "id": "lqVSIYmoh8vY"
      },
      "source": [
        "## Computational Graph\n",
        "\n",
        "Conceptually, autograd keeps a record of data (tensors) & all executed\n",
        "operations (along with the resulting new tensors) in a directed acyclic\n",
        "graph (DAG) consisting of\n",
        "[Function](https://pytorch.org/docs/stable/autograd.html#torch.autograd.Function)_\n",
        "objects. In this DAG, leaves are the input tensors, roots are the output\n",
        "tensors. By tracing this graph from roots to leaves, you can\n",
        "automatically compute the gradients using the chain rule.\n",
        "\n",
        "In a forward pass, autograd does two things simultaneously:\n",
        "\n",
        "- run the requested operation to compute a resulting tensor, and\n",
        "- maintain the operation’s *gradient function* in the DAG.\n",
        "\n",
        "The backward pass kicks off when ``.backward()`` is called on the DAG\n",
        "root. ``autograd`` then:\n",
        "\n",
        "- computes the gradients from each ``.grad_fn``,\n",
        "- accumulates them in the respective tensor’s ``.grad`` attribute, and\n",
        "- using the chain rule, propagates all the way to the leaf tensors.\n",
        "\n",
        "Below is a visual representation of the DAG in our example. In the graph,\n",
        "the arrows are in the direction of the forward pass. The nodes represent the backward functions\n",
        "of each operation in the forward pass. The leaf nodes in blue represent our leaf tensors ``a`` and ``b``.\n",
        "\n",
        ".. figure:: /_static/img/dag_autograd.png\n",
        "\n",
        "<div class=\"alert alert-info\"><h4>Note</h4><p>**DAGs are dynamic in PyTorch**\n",
        "  An important thing to note is that the graph is recreated from scratch; after each\n",
        "  ``.backward()`` call, autograd starts populating a new graph. This is\n",
        "  exactly what allows you to use control flow statements in your model;\n",
        "  you can change the shape, size and operations at every iteration if\n",
        "  needed.</p></div>\n",
        "\n",
        "### Exclusion from the DAG\n",
        "\n",
        "``torch.autograd`` tracks operations on all tensors which have their\n",
        "``requires_grad`` flag set to ``True``. For tensors that don’t require\n",
        "gradients, setting this attribute to ``False`` excludes it from the\n",
        "gradient computation DAG.\n",
        "\n",
        "The output tensor of an operation will require gradients even if only a\n",
        "single input tensor has ``requires_grad=True``.\n",
        "\n",
        "\n"
      ]
    },
    {
      "cell_type": "code",
      "execution_count": 11,
      "metadata": {
        "id": "eikfh1xrh8vZ",
        "outputId": "d8602141-9789-460c-8c66-719e6d1c2d74",
        "colab": {
          "base_uri": "https://localhost:8080/"
        }
      },
      "outputs": [
        {
          "output_type": "stream",
          "name": "stdout",
          "text": [
            "Does `a` require gradients? : False\n",
            "Does `b` require gradients?: True\n"
          ]
        }
      ],
      "source": [
        "x = torch.rand(5, 5)\n",
        "y = torch.rand(5, 5)\n",
        "z = torch.rand((5, 5), requires_grad=True)\n",
        "\n",
        "a = x + y\n",
        "print(f\"Does `a` require gradients? : {a.requires_grad}\")\n",
        "b = x + z\n",
        "print(f\"Does `b` require gradients?: {b.requires_grad}\")"
      ]
    },
    {
      "cell_type": "markdown",
      "metadata": {
        "id": "alzR5t3lh8vZ"
      },
      "source": [
        "In a NN, parameters that don't compute gradients are usually called **frozen parameters**.\n",
        "It is useful to \"freeze\" part of your model if you know in advance that you won't need the gradients of those parameters\n",
        "(this offers some performance benefits by reducing autograd computations).\n",
        "\n",
        "Another common usecase where exclusion from the DAG is important is for\n",
        "[finetuning a pretrained network](https://pytorch.org/tutorials/beginner/finetuning_torchvision_models_tutorial.html)_\n",
        "\n",
        "In finetuning, we freeze most of the model and typically only modify the classifier layers to make predictions on new labels.\n",
        "Let's walk through a small example to demonstrate this. As before, we load a pretrained resnet18 model, and freeze all the parameters.\n",
        "\n"
      ]
    },
    {
      "cell_type": "code",
      "execution_count": 12,
      "metadata": {
        "id": "yZz94RxPh8vZ"
      },
      "outputs": [],
      "source": [
        "from torch import nn, optim\n",
        "\n",
        "model = resnet18(weights=ResNet18_Weights.DEFAULT)\n",
        "\n",
        "# Freeze all the parameters in the network\n",
        "for param in model.parameters():\n",
        "    param.requires_grad = False"
      ]
    },
    {
      "cell_type": "markdown",
      "metadata": {
        "id": "xnC6dIhOh8vZ"
      },
      "source": [
        "Let's say we want to finetune the model on a new dataset with 10 labels.\n",
        "In resnet, the classifier is the last linear layer ``model.fc``.\n",
        "We can simply replace it with a new linear layer (unfrozen by default)\n",
        "that acts as our classifier.\n",
        "\n"
      ]
    },
    {
      "cell_type": "code",
      "execution_count": 13,
      "metadata": {
        "id": "5dntfrzph8vZ"
      },
      "outputs": [],
      "source": [
        "model.fc = nn.Linear(512, 10)"
      ]
    },
    {
      "cell_type": "markdown",
      "metadata": {
        "id": "6iBVRHHvh8vZ"
      },
      "source": [
        "Now all parameters in the model, except the parameters of ``model.fc``, are frozen.\n",
        "The only parameters that compute gradients are the weights and bias of ``model.fc``.\n",
        "\n"
      ]
    },
    {
      "cell_type": "code",
      "execution_count": 14,
      "metadata": {
        "id": "mEVj_naHh8vZ"
      },
      "outputs": [],
      "source": [
        "# Optimize only the classifier\n",
        "optimizer = optim.SGD(model.parameters(), lr=1e-2, momentum=0.9)"
      ]
    },
    {
      "cell_type": "markdown",
      "metadata": {
        "id": "c6qwr1Wwh8va"
      },
      "source": [
        "Notice although we register all the parameters in the optimizer,\n",
        "the only parameters that are computing gradients (and hence updated in gradient descent)\n",
        "are the weights and bias of the classifier.\n",
        "\n",
        "The same exclusionary functionality is available as a context manager in\n",
        "[torch.no_grad()](https://pytorch.org/docs/stable/generated/torch.no_grad.html)_\n",
        "\n",
        "\n"
      ]
    },
    {
      "cell_type": "markdown",
      "metadata": {
        "id": "TAlT7Dgph8va"
      },
      "source": [
        "--------------\n",
        "\n",
        "\n"
      ]
    },
    {
      "cell_type": "markdown",
      "metadata": {
        "id": "r-HK61Woh8va"
      },
      "source": [
        "## Further readings:\n",
        "\n",
        "-  [In-place operations & Multithreaded Autograd](https://pytorch.org/docs/stable/notes/autograd.html)_\n",
        "-  [Example implementation of reverse-mode autodiff](https://colab.research.google.com/drive/1VpeE6UvEPRz9HmsHh1KS0XxXjYu533EC)_\n",
        "\n"
      ]
    }
  ],
  "metadata": {
    "kernelspec": {
      "display_name": "Python 3",
      "language": "python",
      "name": "python3"
    },
    "language_info": {
      "codemirror_mode": {
        "name": "ipython",
        "version": 3
      },
      "file_extension": ".py",
      "mimetype": "text/x-python",
      "name": "python",
      "nbconvert_exporter": "python",
      "pygments_lexer": "ipython3",
      "version": "3.10.8"
    },
    "colab": {
      "provenance": [],
      "include_colab_link": true
    },
    "accelerator": "GPU",
    "gpuClass": "standard",
    "widgets": {
      "application/vnd.jupyter.widget-state+json": {
        "e5658da1b2f144079b620bcc914e1d51": {
          "model_module": "@jupyter-widgets/controls",
          "model_name": "HBoxModel",
          "model_module_version": "1.5.0",
          "state": {
            "_dom_classes": [],
            "_model_module": "@jupyter-widgets/controls",
            "_model_module_version": "1.5.0",
            "_model_name": "HBoxModel",
            "_view_count": null,
            "_view_module": "@jupyter-widgets/controls",
            "_view_module_version": "1.5.0",
            "_view_name": "HBoxView",
            "box_style": "",
            "children": [
              "IPY_MODEL_d1e5685c4400494887bb622c913f7939",
              "IPY_MODEL_86dfec017d37416b8c1be87b4f024b09",
              "IPY_MODEL_91d2fb7f243d493383d6bebc17e914f4"
            ],
            "layout": "IPY_MODEL_2c5c90c4ca424ec8854885372975c128"
          }
        },
        "d1e5685c4400494887bb622c913f7939": {
          "model_module": "@jupyter-widgets/controls",
          "model_name": "HTMLModel",
          "model_module_version": "1.5.0",
          "state": {
            "_dom_classes": [],
            "_model_module": "@jupyter-widgets/controls",
            "_model_module_version": "1.5.0",
            "_model_name": "HTMLModel",
            "_view_count": null,
            "_view_module": "@jupyter-widgets/controls",
            "_view_module_version": "1.5.0",
            "_view_name": "HTMLView",
            "description": "",
            "description_tooltip": null,
            "layout": "IPY_MODEL_090a04f14de347a8a11fa7e9717de23a",
            "placeholder": "​",
            "style": "IPY_MODEL_6aeb6cd7db714e1caec3707ce758bbba",
            "value": "100%"
          }
        },
        "86dfec017d37416b8c1be87b4f024b09": {
          "model_module": "@jupyter-widgets/controls",
          "model_name": "FloatProgressModel",
          "model_module_version": "1.5.0",
          "state": {
            "_dom_classes": [],
            "_model_module": "@jupyter-widgets/controls",
            "_model_module_version": "1.5.0",
            "_model_name": "FloatProgressModel",
            "_view_count": null,
            "_view_module": "@jupyter-widgets/controls",
            "_view_module_version": "1.5.0",
            "_view_name": "ProgressView",
            "bar_style": "success",
            "description": "",
            "description_tooltip": null,
            "layout": "IPY_MODEL_7f6b9d1659504b5186ff9d8f716b7ab5",
            "max": 46830571,
            "min": 0,
            "orientation": "horizontal",
            "style": "IPY_MODEL_3e4a3a99fd7943808709067d8540a694",
            "value": 46830571
          }
        },
        "91d2fb7f243d493383d6bebc17e914f4": {
          "model_module": "@jupyter-widgets/controls",
          "model_name": "HTMLModel",
          "model_module_version": "1.5.0",
          "state": {
            "_dom_classes": [],
            "_model_module": "@jupyter-widgets/controls",
            "_model_module_version": "1.5.0",
            "_model_name": "HTMLModel",
            "_view_count": null,
            "_view_module": "@jupyter-widgets/controls",
            "_view_module_version": "1.5.0",
            "_view_name": "HTMLView",
            "description": "",
            "description_tooltip": null,
            "layout": "IPY_MODEL_1be1cc8d56284a76abf27c51dbe5ddef",
            "placeholder": "​",
            "style": "IPY_MODEL_94da2800f40a444091ff2411d34f1e98",
            "value": " 44.7M/44.7M [00:00&lt;00:00, 209MB/s]"
          }
        },
        "2c5c90c4ca424ec8854885372975c128": {
          "model_module": "@jupyter-widgets/base",
          "model_name": "LayoutModel",
          "model_module_version": "1.2.0",
          "state": {
            "_model_module": "@jupyter-widgets/base",
            "_model_module_version": "1.2.0",
            "_model_name": "LayoutModel",
            "_view_count": null,
            "_view_module": "@jupyter-widgets/base",
            "_view_module_version": "1.2.0",
            "_view_name": "LayoutView",
            "align_content": null,
            "align_items": null,
            "align_self": null,
            "border": null,
            "bottom": null,
            "display": null,
            "flex": null,
            "flex_flow": null,
            "grid_area": null,
            "grid_auto_columns": null,
            "grid_auto_flow": null,
            "grid_auto_rows": null,
            "grid_column": null,
            "grid_gap": null,
            "grid_row": null,
            "grid_template_areas": null,
            "grid_template_columns": null,
            "grid_template_rows": null,
            "height": null,
            "justify_content": null,
            "justify_items": null,
            "left": null,
            "margin": null,
            "max_height": null,
            "max_width": null,
            "min_height": null,
            "min_width": null,
            "object_fit": null,
            "object_position": null,
            "order": null,
            "overflow": null,
            "overflow_x": null,
            "overflow_y": null,
            "padding": null,
            "right": null,
            "top": null,
            "visibility": null,
            "width": null
          }
        },
        "090a04f14de347a8a11fa7e9717de23a": {
          "model_module": "@jupyter-widgets/base",
          "model_name": "LayoutModel",
          "model_module_version": "1.2.0",
          "state": {
            "_model_module": "@jupyter-widgets/base",
            "_model_module_version": "1.2.0",
            "_model_name": "LayoutModel",
            "_view_count": null,
            "_view_module": "@jupyter-widgets/base",
            "_view_module_version": "1.2.0",
            "_view_name": "LayoutView",
            "align_content": null,
            "align_items": null,
            "align_self": null,
            "border": null,
            "bottom": null,
            "display": null,
            "flex": null,
            "flex_flow": null,
            "grid_area": null,
            "grid_auto_columns": null,
            "grid_auto_flow": null,
            "grid_auto_rows": null,
            "grid_column": null,
            "grid_gap": null,
            "grid_row": null,
            "grid_template_areas": null,
            "grid_template_columns": null,
            "grid_template_rows": null,
            "height": null,
            "justify_content": null,
            "justify_items": null,
            "left": null,
            "margin": null,
            "max_height": null,
            "max_width": null,
            "min_height": null,
            "min_width": null,
            "object_fit": null,
            "object_position": null,
            "order": null,
            "overflow": null,
            "overflow_x": null,
            "overflow_y": null,
            "padding": null,
            "right": null,
            "top": null,
            "visibility": null,
            "width": null
          }
        },
        "6aeb6cd7db714e1caec3707ce758bbba": {
          "model_module": "@jupyter-widgets/controls",
          "model_name": "DescriptionStyleModel",
          "model_module_version": "1.5.0",
          "state": {
            "_model_module": "@jupyter-widgets/controls",
            "_model_module_version": "1.5.0",
            "_model_name": "DescriptionStyleModel",
            "_view_count": null,
            "_view_module": "@jupyter-widgets/base",
            "_view_module_version": "1.2.0",
            "_view_name": "StyleView",
            "description_width": ""
          }
        },
        "7f6b9d1659504b5186ff9d8f716b7ab5": {
          "model_module": "@jupyter-widgets/base",
          "model_name": "LayoutModel",
          "model_module_version": "1.2.0",
          "state": {
            "_model_module": "@jupyter-widgets/base",
            "_model_module_version": "1.2.0",
            "_model_name": "LayoutModel",
            "_view_count": null,
            "_view_module": "@jupyter-widgets/base",
            "_view_module_version": "1.2.0",
            "_view_name": "LayoutView",
            "align_content": null,
            "align_items": null,
            "align_self": null,
            "border": null,
            "bottom": null,
            "display": null,
            "flex": null,
            "flex_flow": null,
            "grid_area": null,
            "grid_auto_columns": null,
            "grid_auto_flow": null,
            "grid_auto_rows": null,
            "grid_column": null,
            "grid_gap": null,
            "grid_row": null,
            "grid_template_areas": null,
            "grid_template_columns": null,
            "grid_template_rows": null,
            "height": null,
            "justify_content": null,
            "justify_items": null,
            "left": null,
            "margin": null,
            "max_height": null,
            "max_width": null,
            "min_height": null,
            "min_width": null,
            "object_fit": null,
            "object_position": null,
            "order": null,
            "overflow": null,
            "overflow_x": null,
            "overflow_y": null,
            "padding": null,
            "right": null,
            "top": null,
            "visibility": null,
            "width": null
          }
        },
        "3e4a3a99fd7943808709067d8540a694": {
          "model_module": "@jupyter-widgets/controls",
          "model_name": "ProgressStyleModel",
          "model_module_version": "1.5.0",
          "state": {
            "_model_module": "@jupyter-widgets/controls",
            "_model_module_version": "1.5.0",
            "_model_name": "ProgressStyleModel",
            "_view_count": null,
            "_view_module": "@jupyter-widgets/base",
            "_view_module_version": "1.2.0",
            "_view_name": "StyleView",
            "bar_color": null,
            "description_width": ""
          }
        },
        "1be1cc8d56284a76abf27c51dbe5ddef": {
          "model_module": "@jupyter-widgets/base",
          "model_name": "LayoutModel",
          "model_module_version": "1.2.0",
          "state": {
            "_model_module": "@jupyter-widgets/base",
            "_model_module_version": "1.2.0",
            "_model_name": "LayoutModel",
            "_view_count": null,
            "_view_module": "@jupyter-widgets/base",
            "_view_module_version": "1.2.0",
            "_view_name": "LayoutView",
            "align_content": null,
            "align_items": null,
            "align_self": null,
            "border": null,
            "bottom": null,
            "display": null,
            "flex": null,
            "flex_flow": null,
            "grid_area": null,
            "grid_auto_columns": null,
            "grid_auto_flow": null,
            "grid_auto_rows": null,
            "grid_column": null,
            "grid_gap": null,
            "grid_row": null,
            "grid_template_areas": null,
            "grid_template_columns": null,
            "grid_template_rows": null,
            "height": null,
            "justify_content": null,
            "justify_items": null,
            "left": null,
            "margin": null,
            "max_height": null,
            "max_width": null,
            "min_height": null,
            "min_width": null,
            "object_fit": null,
            "object_position": null,
            "order": null,
            "overflow": null,
            "overflow_x": null,
            "overflow_y": null,
            "padding": null,
            "right": null,
            "top": null,
            "visibility": null,
            "width": null
          }
        },
        "94da2800f40a444091ff2411d34f1e98": {
          "model_module": "@jupyter-widgets/controls",
          "model_name": "DescriptionStyleModel",
          "model_module_version": "1.5.0",
          "state": {
            "_model_module": "@jupyter-widgets/controls",
            "_model_module_version": "1.5.0",
            "_model_name": "DescriptionStyleModel",
            "_view_count": null,
            "_view_module": "@jupyter-widgets/base",
            "_view_module_version": "1.2.0",
            "_view_name": "StyleView",
            "description_width": ""
          }
        }
      }
    }
  },
  "nbformat": 4,
  "nbformat_minor": 0
}